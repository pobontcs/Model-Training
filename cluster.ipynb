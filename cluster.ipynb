{
 "cells": [
  {
   "cell_type": "code",
   "execution_count": null,
   "metadata": {},
   "outputs": [],
   "source": [
    "import os\n",
    "import pandas as pd\n",
    "import matplotlib.pyplot as plt\n",
    "from sklearn.preprocessing import OrdinalEncoder\n",
    "from sklearn.naive_bayes import CategoricalNB"
   ]
  },
  {
   "cell_type": "code",
   "execution_count": 16,
   "metadata": {},
   "outputs": [
    {
     "data": {
      "text/plain": [
       "'No'"
      ]
     },
     "execution_count": 16,
     "metadata": {},
     "output_type": "execute_result"
    }
   ],
   "source": [
    "filepath = os.path.join(os.getcwd(), 'datasets', 'bayes.csv')\n",
    "df = pd.read_csv(filepath)\n",
    "encoder = OrdinalEncoder()\n",
    "X = encoder.fit_transform(df[['Gender', 'Age Group', 'Income Level']])\n",
    "y = df['Buy'].map({'Yes': 1, 'No': 0}).values\n",
    "\n",
    "model=CategoricalNB()\n",
    "\n",
    "model.fit(X,y)\n",
    "\n",
    "customer=pd.DataFrame([['Female', 'Young', 'Low']], columns=['Gender', 'Age Group', 'Income Level'])\n",
    "customer_encoded =encoder.transform(customer)\n",
    "prediction = model.predict(customer_encoded)\n",
    "\n",
    "predicted_label='Yes' if prediction[0]==1 else 'No'\n",
    "\n",
    "predicted_label\n"
   ]
  }
 ],
 "metadata": {
  "kernelspec": {
   "display_name": "venv",
   "language": "python",
   "name": "python3"
  },
  "language_info": {
   "codemirror_mode": {
    "name": "ipython",
    "version": 3
   },
   "file_extension": ".py",
   "mimetype": "text/x-python",
   "name": "python",
   "nbconvert_exporter": "python",
   "pygments_lexer": "ipython3",
   "version": "3.13.5"
  }
 },
 "nbformat": 4,
 "nbformat_minor": 2
}
